{
 "cells": [
  {
   "cell_type": "code",
   "execution_count": 2,
   "id": "c2c63fe8-a25a-4141-ae9c-66deb9284314",
   "metadata": {},
   "outputs": [
    {
     "name": "stdout",
     "output_type": "stream",
     "text": [
      "Bullets: [1, 1, 1, 1, 1, 0]\n"
     ]
    },
    {
     "name": "stdin",
     "output_type": "stream",
     "text": [
      "your turn!(Shoot to S / Give Up to other) s\n"
     ]
    },
    {
     "name": "stdout",
     "output_type": "stream",
     "text": [
      "You Alive\n",
      "Computer's turn!\n",
      "Computer Alive\n",
      "Your Bullets: [1, 1, 1, 1, 0]\n"
     ]
    },
    {
     "name": "stdin",
     "output_type": "stream",
     "text": [
      "your turn!(Shoot to S / Give Up to other) s\n"
     ]
    },
    {
     "name": "stdout",
     "output_type": "stream",
     "text": [
      "You Alive\n",
      "Computer's turn!\n",
      "Computer Died\n",
      "You Win!\n"
     ]
    }
   ],
   "source": [
    "import random\n",
    "\n",
    "#  1=Safe   0=Die\n",
    "MyB=[1,1,1,1,1,0]\n",
    "OtherB=[1,1,1,1,1,0]\n",
    "\n",
    "MyBs=len(MyB)-1\n",
    "OtherBs=len(OtherB)-1\n",
    "\n",
    "print(\"Bullets: \"+str(MyB))\n",
    "\n",
    "while True:\n",
    "    s=input(\"your turn!(Shoot to S / Give Up to other)\")\n",
    "    if s!=\"S\" and s!=\"s\":\n",
    "        print(\"You Give UP\")\n",
    "        break\n",
    "    else:\n",
    "        b=MyB.pop(random.randint(-1,MyBs))\n",
    "        if b==0:\n",
    "            print(\"You Died\")\n",
    "            break\n",
    "        else:\n",
    "            print(\"You Alive\")\n",
    "        MyBs-=1\n",
    "\n",
    "    print(\"Computer's turn!\")\n",
    "    b=OtherB.pop(random.randint(-1,OtherBs))\n",
    "    if b==0:\n",
    "        print(\"Computer Died\")\n",
    "        print(\"You Win!\")\n",
    "        break\n",
    "    else:\n",
    "        print(\"Computer Alive\")\n",
    "    OtherBs-=1\n",
    "    print(\"Your Bullets: \"+str(MyB))"
   ]
  },
  {
   "cell_type": "code",
   "execution_count": null,
   "id": "44bf2613-c69e-4215-9f5d-382d07dc5c43",
   "metadata": {},
   "outputs": [],
   "source": []
  }
 ],
 "metadata": {
  "kernelspec": {
   "display_name": "Python 3 (ipykernel)",
   "language": "python",
   "name": "python3"
  },
  "language_info": {
   "codemirror_mode": {
    "name": "ipython",
    "version": 3
   },
   "file_extension": ".py",
   "mimetype": "text/x-python",
   "name": "python",
   "nbconvert_exporter": "python",
   "pygments_lexer": "ipython3",
   "version": "3.11.7"
  }
 },
 "nbformat": 4,
 "nbformat_minor": 5
}
